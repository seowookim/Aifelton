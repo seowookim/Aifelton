{
 "cells": [
  {
   "cell_type": "code",
   "execution_count": 1,
   "metadata": {},
   "outputs": [
    {
     "name": "stderr",
     "output_type": "stream",
     "text": [
      "c:\\Users\\saink\\py_purpose\\EDA_ydata_profiling\\.venv\\Lib\\site-packages\\tqdm\\auto.py:21: TqdmWarning: IProgress not found. Please update jupyter and ipywidgets. See https://ipywidgets.readthedocs.io/en/stable/user_install.html\n",
      "  from .autonotebook import tqdm as notebook_tqdm\n"
     ]
    }
   ],
   "source": [
    "import pandas as pd\n",
    "from ydata_profiling import ProfileReport"
   ]
  },
  {
   "cell_type": "markdown",
   "metadata": {},
   "source": [
    "# 아이펠톤에서 조사한 데이터셋\n",
    "## 감정 데이터"
   ]
  },
  {
   "cell_type": "code",
   "execution_count": 2,
   "metadata": {},
   "outputs": [
    {
     "name": "stdout",
     "output_type": "stream",
     "text": [
      "          conv_id      emotion kor_emotion  \\\n",
      "0    hit:2_conv:4     trusting        신뢰하는   \n",
      "1   hit:8_conv:16     prepared         준비된   \n",
      "2  hit:13_conv:26       lonely         외로운   \n",
      "3  hit:16_conv:33  sentimental        감상적인   \n",
      "4  hit:17_conv:35        angry          화난   \n",
      "\n",
      "                                             context  \\\n",
      "0               I have always been loyal to my wife.   \n",
      "1  I had my entire house boarded up when the hurr...   \n",
      "2  A few years ago, my marriage broke up, and I f...   \n",
      "3     I get wistful remembering my high school days.   \n",
      "4  I get irritated with a coworker that gets on m...   \n",
      "\n",
      "                                         kor_context  \\\n",
      "0                                    나는 항상 아내에게 충성했다   \n",
      "1                       허리케인이 왔을 때 나는 집 전체를 판자로 막았다.   \n",
      "2  몇 년 전 결혼이 깨졌고, 나는 인생에서 처음으로 혼자 사는 것을 발견했다. 결국 ...   \n",
      "3                                 학창시절이 생각나면 그리워집니다.   \n",
      "4  맨날 신경쓰이는 직장동료가 와서 담배냄새 맡으면서 귀찮게 하고 잡담 하려고 하면 짜...   \n",
      "\n",
      "                                factor  \n",
      "0                                 아내에게  \n",
      "1               허리케인이###집 전체를 판자로 막았다.  \n",
      "2                   인생에서 처음으로 혼자 사는 것을  \n",
      "3                                학창시절이  \n",
      "4  직장동료가 와서 담배냄새 맡으면서 귀찮게 하고 잡담 하려고 하면  \n"
     ]
    }
   ],
   "source": [
    "# 출처? 한국어 논문에서 본 것인거 같음 \n",
    "# 원천 - 메타에서 크라우드소싱으로 만든 empatheticdialogues 데이터셋을 번역하여 사용 \n",
    "\n",
    "moesm1 = pd.read_csv(\"raw_data/41598_2023_45386_MOESM1_ESM.csv\")\n",
    "moesm2 = pd.read_csv(\"raw_data/41598_2023_45386_MOESM2_ESM.csv\")\n",
    "moesm3 = pd.read_csv(\"raw_data/41598_2023_45386_MOESM3_ESM.csv\")\n",
    "\n",
    "# 합침\n",
    "moesm = pd.concat([moesm1, moesm2, moesm3], axis=0)\n",
    "\n",
    "print(moesm.head())"
   ]
  },
  {
   "cell_type": "code",
   "execution_count": 4,
   "metadata": {},
   "outputs": [
    {
     "name": "stderr",
     "output_type": "stream",
     "text": [
      "Summarize dataset: 100%|██████████| 15/15 [00:00<00:00, 17.50it/s, Completed]                   \n",
      "Generate report structure: 100%|██████████| 1/1 [00:01<00:00,  1.67s/it]\n",
      "Render HTML: 100%|██████████| 1/1 [00:00<00:00, 10.12it/s]\n",
      "Export report to file: 100%|██████████| 1/1 [00:00<00:00, 500.22it/s]\n"
     ]
    }
   ],
   "source": [
    "# 프로파일링 리포트 생성\n",
    "profile = ProfileReport(moesm, title=\"moesm\", explorative=True)\n",
    "\n",
    "# 리포트를 HTML 파일로 저장\n",
    "profile.to_file(\"ydata_profiling/moesm.html\")"
   ]
  },
  {
   "cell_type": "markdown",
   "metadata": {},
   "source": [
    "## 인지왜곡 데이터"
   ]
  },
  {
   "cell_type": "code",
   "execution_count": 5,
   "metadata": {},
   "outputs": [
    {
     "name": "stdout",
     "output_type": "stream",
     "text": [
      "   Id_Number                                   Patient Question  \\\n",
      "0       4500  Hello, I have a beautiful,smart,outgoing and a...   \n",
      "1       4501  Since I was about 16 years old I’ve had these ...   \n",
      "2       4502   So I’ve been dating on and off this guy for a...   \n",
      "3       4503  My parents got divorced in 2004. My mother has...   \n",
      "4       4504  I don’t really know how to explain the situati...   \n",
      "\n",
      "                                      Distorted part Dominant Distortion  \\\n",
      "0  The voice are always fimilar (someone she know...     Personalization   \n",
      "1  I feel trapped inside my disgusting self and l...            Labeling   \n",
      "2                                                NaN       No Distortion   \n",
      "3                                                NaN       No Distortion   \n",
      "4  I refused to go because I didn’t know if it wa...     Fortune-telling   \n",
      "\n",
      "  Secondary Distortion (Optional)  \n",
      "0                             NaN  \n",
      "1             Emotional Reasoning  \n",
      "2                             NaN  \n",
      "3                             NaN  \n",
      "4             Emotional Reasoning  \n"
     ]
    }
   ],
   "source": [
    "# 출처 : 캐글의 Therapist Q&A dataset\n",
    "# 원천 : https://www.kaggle.com/datasets/sagarikashreevastava/cognitive-distortion-detetction-dataset, 실제 환자와 전문 치료사의 대화인거 같음 \n",
    "annotated = pd.read_csv(\"raw_data/Annotated_data.csv\")\n",
    "print(annotated.head())"
   ]
  },
  {
   "cell_type": "code",
   "execution_count": 6,
   "metadata": {},
   "outputs": [
    {
     "name": "stderr",
     "output_type": "stream",
     "text": [
      "Summarize dataset: 100%|██████████| 16/16 [00:00<00:00, 27.77it/s, Completed]                                       \n",
      "Generate report structure: 100%|██████████| 1/1 [00:01<00:00,  1.21s/it]\n",
      "Render HTML: 100%|██████████| 1/1 [00:00<00:00,  9.66it/s]\n",
      "Export report to file: 100%|██████████| 1/1 [00:00<00:00, 500.10it/s]\n"
     ]
    }
   ],
   "source": [
    "# 프로파일링 리포트 생성\n",
    "profile = ProfileReport(annotated, title=\"annotated\", explorative=True)\n",
    "\n",
    "# 리포트를 HTML 파일로 저장\n",
    "profile.to_file(\"ydata_profiling/annotated.html\")"
   ]
  },
  {
   "cell_type": "code",
   "execution_count": 10,
   "metadata": {},
   "outputs": [
    {
     "name": "stdout",
     "output_type": "stream",
     "text": [
      "                                              Answer  \\\n",
      "0  Thank you for writing. You did nothing wrong! ...   \n",
      "1  At 63, you are still working on this. For that...   \n",
      "2  It’s impossible to give a diagnosis over the i...   \n",
      "3  Congratulations on bringing your new baby into...   \n",
      "4  Thank you for explaining this situation. How u...   \n",
      "\n",
      "                                            Question  Id_Number  \n",
      "0  From a teen in Australia: This story is incred...          0  \n",
      "1  From a woman in the U.S.: My Therapist of eigh...          1  \n",
      "2  I don’t even really know where to start. For t...          2  \n",
      "3  From a woman in the UK: Hi, I have a 4 month o...          3  \n",
      "4  Me and my sister in law are both pregnant righ...          4  \n"
     ]
    }
   ],
   "source": [
    "# 출처 : 캐글의 Therapist Q&A dataset\n",
    "# 원천 : https://www.kaggle.com/datasets/arnmaud/therapist-qa, 환자가 묻는 질문과 면허가 있는 치료사의 해당 답변\n",
    "therapist_res = pd.read_csv(\"raw_data/Therapist_responses.csv\")\n",
    "print(therapist_res.head())"
   ]
  },
  {
   "cell_type": "code",
   "execution_count": 8,
   "metadata": {},
   "outputs": [
    {
     "name": "stdout",
     "output_type": "stream",
     "text": [
      "   Num                                            场景  \\\n",
      "0    1                    很内向的人，你刚到了一个新环境，周围的人都比较陌生。   \n",
      "1    2                       最近你感觉有时候站起来就头晕，感觉头重脚轻那种   \n",
      "2    3                          走在路上你感觉饿了，但周围一家饭店都没有   \n",
      "3    4                               工作最近比较忙，你却得了感冒。   \n",
      "4    5  妈妈和我讨论未来计划，妈妈和我提了很多规划，表示了她对现状的担忧，但有些规划我不太认可。   \n",
      "\n",
      "                                     思维    标签  \n",
      "0                      这个环境里的人是不是都很不友善啊  过度泛化  \n",
      "1                    头好晕，是不是生病了，得去医院看看了   非扭曲  \n",
      "2     累了没地方休息，饿了没地方吃饭，怎么不幸的事情总是发生在我的身上呢  过度泛化  \n",
      "3   哎怎在这个时候感冒了，运气好差，工作都要做不完了身体还不舒服，好想哭。   非扭曲  \n",
      "4  妈妈又对我的人生指手画脚，就想让我过她规划的人生，这样过还不如让我去死。    算命  \n"
     ]
    }
   ],
   "source": [
    "# 출처 : C2d2 dataset: A resource for the cognitive distortion analysis and its impact on mental health. 중국어 논문\n",
    "# 원천 : 신중하게 선발된 자원봉사자와 전문가들이 협력하여 직접 만들었다고 함\n",
    "# 번역해서 써야함\n",
    "c2d2 = pd.read_csv(\"raw_data/C2D2_dataset.csv\", encoding='GB2312')\n",
    "print(c2d2.head())"
   ]
  },
  {
   "cell_type": "code",
   "execution_count": 9,
   "metadata": {},
   "outputs": [
    {
     "name": "stderr",
     "output_type": "stream",
     "text": [
      "Summarize dataset:  53%|█████▎    | 8/15 [00:00<00:00, 29.28it/s, Missing diagram bar]       c:\\Users\\saink\\py_purpose\\EDA_ydata_profiling\\.venv\\Lib\\site-packages\\ydata_profiling\\visualisation\\utils.py:73: UserWarning: Glyph 22330 (\\N{CJK UNIFIED IDEOGRAPH-573A}) missing from font(s) Arial.\n",
      "  plt.savefig(\n",
      "c:\\Users\\saink\\py_purpose\\EDA_ydata_profiling\\.venv\\Lib\\site-packages\\ydata_profiling\\visualisation\\utils.py:73: UserWarning: Glyph 26223 (\\N{CJK UNIFIED IDEOGRAPH-666F}) missing from font(s) Arial.\n",
      "  plt.savefig(\n",
      "c:\\Users\\saink\\py_purpose\\EDA_ydata_profiling\\.venv\\Lib\\site-packages\\ydata_profiling\\visualisation\\utils.py:73: UserWarning: Glyph 24605 (\\N{CJK UNIFIED IDEOGRAPH-601D}) missing from font(s) Arial.\n",
      "  plt.savefig(\n",
      "c:\\Users\\saink\\py_purpose\\EDA_ydata_profiling\\.venv\\Lib\\site-packages\\ydata_profiling\\visualisation\\utils.py:73: UserWarning: Glyph 32500 (\\N{CJK UNIFIED IDEOGRAPH-7EF4}) missing from font(s) Arial.\n",
      "  plt.savefig(\n",
      "c:\\Users\\saink\\py_purpose\\EDA_ydata_profiling\\.venv\\Lib\\site-packages\\ydata_profiling\\visualisation\\utils.py:73: UserWarning: Glyph 26631 (\\N{CJK UNIFIED IDEOGRAPH-6807}) missing from font(s) Arial.\n",
      "  plt.savefig(\n",
      "c:\\Users\\saink\\py_purpose\\EDA_ydata_profiling\\.venv\\Lib\\site-packages\\ydata_profiling\\visualisation\\utils.py:73: UserWarning: Glyph 31614 (\\N{CJK UNIFIED IDEOGRAPH-7B7E}) missing from font(s) Arial.\n",
      "  plt.savefig(\n",
      "Summarize dataset:  60%|██████    | 9/15 [00:00<00:00, 37.82it/s, Missing diagram matrix]c:\\Users\\saink\\py_purpose\\EDA_ydata_profiling\\.venv\\Lib\\site-packages\\ydata_profiling\\visualisation\\utils.py:73: UserWarning: Glyph 22330 (\\N{CJK UNIFIED IDEOGRAPH-573A}) missing from font(s) Arial.\n",
      "  plt.savefig(\n",
      "c:\\Users\\saink\\py_purpose\\EDA_ydata_profiling\\.venv\\Lib\\site-packages\\ydata_profiling\\visualisation\\utils.py:73: UserWarning: Glyph 26223 (\\N{CJK UNIFIED IDEOGRAPH-666F}) missing from font(s) Arial.\n",
      "  plt.savefig(\n",
      "c:\\Users\\saink\\py_purpose\\EDA_ydata_profiling\\.venv\\Lib\\site-packages\\ydata_profiling\\visualisation\\utils.py:73: UserWarning: Glyph 24605 (\\N{CJK UNIFIED IDEOGRAPH-601D}) missing from font(s) Arial.\n",
      "  plt.savefig(\n",
      "c:\\Users\\saink\\py_purpose\\EDA_ydata_profiling\\.venv\\Lib\\site-packages\\ydata_profiling\\visualisation\\utils.py:73: UserWarning: Glyph 32500 (\\N{CJK UNIFIED IDEOGRAPH-7EF4}) missing from font(s) Arial.\n",
      "  plt.savefig(\n",
      "c:\\Users\\saink\\py_purpose\\EDA_ydata_profiling\\.venv\\Lib\\site-packages\\ydata_profiling\\visualisation\\utils.py:73: UserWarning: Glyph 26631 (\\N{CJK UNIFIED IDEOGRAPH-6807}) missing from font(s) Arial.\n",
      "  plt.savefig(\n",
      "c:\\Users\\saink\\py_purpose\\EDA_ydata_profiling\\.venv\\Lib\\site-packages\\ydata_profiling\\visualisation\\utils.py:73: UserWarning: Glyph 31614 (\\N{CJK UNIFIED IDEOGRAPH-7B7E}) missing from font(s) Arial.\n",
      "  plt.savefig(\n",
      "Summarize dataset:  67%|██████▋   | 10/15 [00:00<00:00, 37.82it/s, Missing diagram heatmap]c:\\Users\\saink\\py_purpose\\EDA_ydata_profiling\\.venv\\Lib\\site-packages\\seaborn\\utils.py:61: UserWarning: Glyph 22330 (\\N{CJK UNIFIED IDEOGRAPH-573A}) missing from font(s) Arial.\n",
      "  fig.canvas.draw()\n",
      "c:\\Users\\saink\\py_purpose\\EDA_ydata_profiling\\.venv\\Lib\\site-packages\\seaborn\\utils.py:61: UserWarning: Glyph 26223 (\\N{CJK UNIFIED IDEOGRAPH-666F}) missing from font(s) Arial.\n",
      "  fig.canvas.draw()\n",
      "c:\\Users\\saink\\py_purpose\\EDA_ydata_profiling\\.venv\\Lib\\site-packages\\seaborn\\utils.py:61: UserWarning: Glyph 24605 (\\N{CJK UNIFIED IDEOGRAPH-601D}) missing from font(s) Arial.\n",
      "  fig.canvas.draw()\n",
      "c:\\Users\\saink\\py_purpose\\EDA_ydata_profiling\\.venv\\Lib\\site-packages\\seaborn\\utils.py:61: UserWarning: Glyph 32500 (\\N{CJK UNIFIED IDEOGRAPH-7EF4}) missing from font(s) Arial.\n",
      "  fig.canvas.draw()\n",
      "c:\\Users\\saink\\py_purpose\\EDA_ydata_profiling\\.venv\\Lib\\site-packages\\seaborn\\utils.py:61: UserWarning: Glyph 26631 (\\N{CJK UNIFIED IDEOGRAPH-6807}) missing from font(s) Arial.\n",
      "  fig.canvas.draw()\n",
      "c:\\Users\\saink\\py_purpose\\EDA_ydata_profiling\\.venv\\Lib\\site-packages\\seaborn\\utils.py:61: UserWarning: Glyph 31614 (\\N{CJK UNIFIED IDEOGRAPH-7B7E}) missing from font(s) Arial.\n",
      "  fig.canvas.draw()\n",
      "c:\\Users\\saink\\py_purpose\\EDA_ydata_profiling\\.venv\\Lib\\site-packages\\ydata_profiling\\visualisation\\utils.py:73: UserWarning: Glyph 22330 (\\N{CJK UNIFIED IDEOGRAPH-573A}) missing from font(s) Arial.\n",
      "  plt.savefig(\n",
      "c:\\Users\\saink\\py_purpose\\EDA_ydata_profiling\\.venv\\Lib\\site-packages\\ydata_profiling\\visualisation\\utils.py:73: UserWarning: Glyph 26223 (\\N{CJK UNIFIED IDEOGRAPH-666F}) missing from font(s) Arial.\n",
      "  plt.savefig(\n",
      "c:\\Users\\saink\\py_purpose\\EDA_ydata_profiling\\.venv\\Lib\\site-packages\\ydata_profiling\\visualisation\\utils.py:73: UserWarning: Glyph 24605 (\\N{CJK UNIFIED IDEOGRAPH-601D}) missing from font(s) Arial.\n",
      "  plt.savefig(\n",
      "c:\\Users\\saink\\py_purpose\\EDA_ydata_profiling\\.venv\\Lib\\site-packages\\ydata_profiling\\visualisation\\utils.py:73: UserWarning: Glyph 32500 (\\N{CJK UNIFIED IDEOGRAPH-7EF4}) missing from font(s) Arial.\n",
      "  plt.savefig(\n",
      "c:\\Users\\saink\\py_purpose\\EDA_ydata_profiling\\.venv\\Lib\\site-packages\\ydata_profiling\\visualisation\\utils.py:73: UserWarning: Glyph 26631 (\\N{CJK UNIFIED IDEOGRAPH-6807}) missing from font(s) Arial.\n",
      "  plt.savefig(\n",
      "c:\\Users\\saink\\py_purpose\\EDA_ydata_profiling\\.venv\\Lib\\site-packages\\ydata_profiling\\visualisation\\utils.py:73: UserWarning: Glyph 31614 (\\N{CJK UNIFIED IDEOGRAPH-7B7E}) missing from font(s) Arial.\n",
      "  plt.savefig(\n",
      "Summarize dataset: 100%|██████████| 15/15 [00:00<00:00, 45.95it/s, Completed]               \n",
      "Generate report structure:   0%|          | 0/1 [00:00<?, ?it/s]c:\\Users\\saink\\py_purpose\\EDA_ydata_profiling\\.venv\\Lib\\site-packages\\ydata_profiling\\visualisation\\utils.py:73: UserWarning: Glyph 38750 (\\N{CJK UNIFIED IDEOGRAPH-975E}) missing from font(s) Arial.\n",
      "  plt.savefig(\n",
      "c:\\Users\\saink\\py_purpose\\EDA_ydata_profiling\\.venv\\Lib\\site-packages\\ydata_profiling\\visualisation\\utils.py:73: UserWarning: Glyph 25197 (\\N{CJK UNIFIED IDEOGRAPH-626D}) missing from font(s) Arial.\n",
      "  plt.savefig(\n",
      "c:\\Users\\saink\\py_purpose\\EDA_ydata_profiling\\.venv\\Lib\\site-packages\\ydata_profiling\\visualisation\\utils.py:73: UserWarning: Glyph 26354 (\\N{CJK UNIFIED IDEOGRAPH-66F2}) missing from font(s) Arial.\n",
      "  plt.savefig(\n",
      "c:\\Users\\saink\\py_purpose\\EDA_ydata_profiling\\.venv\\Lib\\site-packages\\ydata_profiling\\visualisation\\utils.py:73: UserWarning: Glyph 35835 (\\N{CJK UNIFIED IDEOGRAPH-8BFB}) missing from font(s) Arial.\n",
      "  plt.savefig(\n",
      "c:\\Users\\saink\\py_purpose\\EDA_ydata_profiling\\.venv\\Lib\\site-packages\\ydata_profiling\\visualisation\\utils.py:73: UserWarning: Glyph 24515 (\\N{CJK UNIFIED IDEOGRAPH-5FC3}) missing from font(s) Arial.\n",
      "  plt.savefig(\n",
      "c:\\Users\\saink\\py_purpose\\EDA_ydata_profiling\\.venv\\Lib\\site-packages\\ydata_profiling\\visualisation\\utils.py:73: UserWarning: Glyph 26415 (\\N{CJK UNIFIED IDEOGRAPH-672F}) missing from font(s) Arial.\n",
      "  plt.savefig(\n",
      "c:\\Users\\saink\\py_purpose\\EDA_ydata_profiling\\.venv\\Lib\\site-packages\\ydata_profiling\\visualisation\\utils.py:73: UserWarning: Glyph 36807 (\\N{CJK UNIFIED IDEOGRAPH-8FC7}) missing from font(s) Arial.\n",
      "  plt.savefig(\n",
      "c:\\Users\\saink\\py_purpose\\EDA_ydata_profiling\\.venv\\Lib\\site-packages\\ydata_profiling\\visualisation\\utils.py:73: UserWarning: Glyph 24230 (\\N{CJK UNIFIED IDEOGRAPH-5EA6}) missing from font(s) Arial.\n",
      "  plt.savefig(\n",
      "c:\\Users\\saink\\py_purpose\\EDA_ydata_profiling\\.venv\\Lib\\site-packages\\ydata_profiling\\visualisation\\utils.py:73: UserWarning: Glyph 27867 (\\N{CJK UNIFIED IDEOGRAPH-6CDB}) missing from font(s) Arial.\n",
      "  plt.savefig(\n",
      "c:\\Users\\saink\\py_purpose\\EDA_ydata_profiling\\.venv\\Lib\\site-packages\\ydata_profiling\\visualisation\\utils.py:73: UserWarning: Glyph 21270 (\\N{CJK UNIFIED IDEOGRAPH-5316}) missing from font(s) Arial.\n",
      "  plt.savefig(\n",
      "c:\\Users\\saink\\py_purpose\\EDA_ydata_profiling\\.venv\\Lib\\site-packages\\ydata_profiling\\visualisation\\utils.py:73: UserWarning: Glyph 24773 (\\N{CJK UNIFIED IDEOGRAPH-60C5}) missing from font(s) Arial.\n",
      "  plt.savefig(\n",
      "c:\\Users\\saink\\py_purpose\\EDA_ydata_profiling\\.venv\\Lib\\site-packages\\ydata_profiling\\visualisation\\utils.py:73: UserWarning: Glyph 32490 (\\N{CJK UNIFIED IDEOGRAPH-7EEA}) missing from font(s) Arial.\n",
      "  plt.savefig(\n",
      "c:\\Users\\saink\\py_purpose\\EDA_ydata_profiling\\.venv\\Lib\\site-packages\\ydata_profiling\\visualisation\\utils.py:73: UserWarning: Glyph 25512 (\\N{CJK UNIFIED IDEOGRAPH-63A8}) missing from font(s) Arial.\n",
      "  plt.savefig(\n",
      "c:\\Users\\saink\\py_purpose\\EDA_ydata_profiling\\.venv\\Lib\\site-packages\\ydata_profiling\\visualisation\\utils.py:73: UserWarning: Glyph 29702 (\\N{CJK UNIFIED IDEOGRAPH-7406}) missing from font(s) Arial.\n",
      "  plt.savefig(\n",
      "c:\\Users\\saink\\py_purpose\\EDA_ydata_profiling\\.venv\\Lib\\site-packages\\ydata_profiling\\visualisation\\utils.py:73: UserWarning: Glyph 20081 (\\N{CJK UNIFIED IDEOGRAPH-4E71}) missing from font(s) Arial.\n",
      "  plt.savefig(\n",
      "c:\\Users\\saink\\py_purpose\\EDA_ydata_profiling\\.venv\\Lib\\site-packages\\ydata_profiling\\visualisation\\utils.py:73: UserWarning: Glyph 36148 (\\N{CJK UNIFIED IDEOGRAPH-8D34}) missing from font(s) Arial.\n",
      "  plt.savefig(\n",
      "c:\\Users\\saink\\py_purpose\\EDA_ydata_profiling\\.venv\\Lib\\site-packages\\ydata_profiling\\visualisation\\utils.py:73: UserWarning: Glyph 26631 (\\N{CJK UNIFIED IDEOGRAPH-6807}) missing from font(s) Arial.\n",
      "  plt.savefig(\n",
      "c:\\Users\\saink\\py_purpose\\EDA_ydata_profiling\\.venv\\Lib\\site-packages\\ydata_profiling\\visualisation\\utils.py:73: UserWarning: Glyph 31614 (\\N{CJK UNIFIED IDEOGRAPH-7B7E}) missing from font(s) Arial.\n",
      "  plt.savefig(\n",
      "c:\\Users\\saink\\py_purpose\\EDA_ydata_profiling\\.venv\\Lib\\site-packages\\ydata_profiling\\visualisation\\utils.py:73: UserWarning: Glyph 20010 (\\N{CJK UNIFIED IDEOGRAPH-4E2A}) missing from font(s) Arial.\n",
      "  plt.savefig(\n",
      "c:\\Users\\saink\\py_purpose\\EDA_ydata_profiling\\.venv\\Lib\\site-packages\\ydata_profiling\\visualisation\\utils.py:73: UserWarning: Glyph 20154 (\\N{CJK UNIFIED IDEOGRAPH-4EBA}) missing from font(s) Arial.\n",
      "  plt.savefig(\n",
      "c:\\Users\\saink\\py_purpose\\EDA_ydata_profiling\\.venv\\Lib\\site-packages\\ydata_profiling\\visualisation\\utils.py:73: UserWarning: Glyph 24402 (\\N{CJK UNIFIED IDEOGRAPH-5F52}) missing from font(s) Arial.\n",
      "  plt.savefig(\n",
      "c:\\Users\\saink\\py_purpose\\EDA_ydata_profiling\\.venv\\Lib\\site-packages\\ydata_profiling\\visualisation\\utils.py:73: UserWarning: Glyph 36131 (\\N{CJK UNIFIED IDEOGRAPH-8D23}) missing from font(s) Arial.\n",
      "  plt.savefig(\n",
      "c:\\Users\\saink\\py_purpose\\EDA_ydata_profiling\\.venv\\Lib\\site-packages\\ydata_profiling\\visualisation\\utils.py:73: UserWarning: Glyph 40657 (\\N{CJK UNIFIED IDEOGRAPH-9ED1}) missing from font(s) Arial.\n",
      "  plt.savefig(\n",
      "c:\\Users\\saink\\py_purpose\\EDA_ydata_profiling\\.venv\\Lib\\site-packages\\ydata_profiling\\visualisation\\utils.py:73: UserWarning: Glyph 21363 (\\N{CJK UNIFIED IDEOGRAPH-5373}) missing from font(s) Arial.\n",
      "  plt.savefig(\n",
      "c:\\Users\\saink\\py_purpose\\EDA_ydata_profiling\\.venv\\Lib\\site-packages\\ydata_profiling\\visualisation\\utils.py:73: UserWarning: Glyph 30333 (\\N{CJK UNIFIED IDEOGRAPH-767D}) missing from font(s) Arial.\n",
      "  plt.savefig(\n",
      "c:\\Users\\saink\\py_purpose\\EDA_ydata_profiling\\.venv\\Lib\\site-packages\\ydata_profiling\\visualisation\\utils.py:73: UserWarning: Glyph 31639 (\\N{CJK UNIFIED IDEOGRAPH-7B97}) missing from font(s) Arial.\n",
      "  plt.savefig(\n",
      "c:\\Users\\saink\\py_purpose\\EDA_ydata_profiling\\.venv\\Lib\\site-packages\\ydata_profiling\\visualisation\\utils.py:73: UserWarning: Glyph 21629 (\\N{CJK UNIFIED IDEOGRAPH-547D}) missing from font(s) Arial.\n",
      "  plt.savefig(\n",
      "c:\\Users\\saink\\py_purpose\\EDA_ydata_profiling\\.venv\\Lib\\site-packages\\ydata_profiling\\visualisation\\utils.py:73: UserWarning: Glyph 26631 (\\N{CJK UNIFIED IDEOGRAPH-6807}) missing from font(s) Arial.\n",
      "  plt.savefig(\n",
      "c:\\Users\\saink\\py_purpose\\EDA_ydata_profiling\\.venv\\Lib\\site-packages\\ydata_profiling\\visualisation\\utils.py:73: UserWarning: Glyph 31614 (\\N{CJK UNIFIED IDEOGRAPH-7B7E}) missing from font(s) Arial.\n",
      "  plt.savefig(\n",
      "Generate report structure: 100%|██████████| 1/1 [00:00<00:00,  1.17it/s]\n",
      "Render HTML: 100%|██████████| 1/1 [00:00<00:00, 12.96it/s]\n",
      "Export report to file: 100%|██████████| 1/1 [00:00<00:00, 432.45it/s]\n"
     ]
    }
   ],
   "source": [
    "# 프로파일링 리포트 생성\n",
    "profile = ProfileReport(c2d2, title=\"c2d2\", explorative=True)\n",
    "\n",
    "# 리포트를 HTML 파일로 저장\n",
    "profile.to_file(\"ydata_profiling/c2d2.html\")"
   ]
  },
  {
   "cell_type": "code",
   "execution_count": 12,
   "metadata": {},
   "outputs": [
    {
     "name": "stdout",
     "output_type": "stream",
     "text": [
      "                                             persona  \\\n",
      "0  i have a pencil thin mustache . i have six tat...   \n",
      "1  i like visiting art museums in my spare time ....   \n",
      "2  i like to train dogs . i like to make cookies ...   \n",
      "3  i like to eat tune . i've two cats . i like to...   \n",
      "4  i like visiting art museums in my spare time ....   \n",
      "\n",
      "                                             pattern  \\\n",
      "0                                    Catastrophizing   \n",
      "1                                 Overgeneralization   \n",
      "2               Jumping to conclusions: mind reading   \n",
      "3  Black-and-white or polarized thinking / All or...   \n",
      "4            Jumping to conclusions: Fortune-telling   \n",
      "\n",
      "                                         pattern_def  \\\n",
      "0  Catastrophizing: Giving greater weight to the ...   \n",
      "1  Someone who overgeneralizes makes faulty gener...   \n",
      "2  Inferring a person's possible or probable (usu...   \n",
      "3  Looking at life in all-or-nothing categories. ...   \n",
      "4  Predicting outcomes (usually negative) of events.   \n",
      "\n",
      "                                             thought  \\\n",
      "0  I like my cats. I think one day they will plot...   \n",
      "1  I'm a vegan, and the restaurant served me a di...   \n",
      "2  The cashier at the bagel store messed up my or...   \n",
      "3  One of my cats is sick so I'll never adopt ano...   \n",
      "4  My new boyfriend is going to dump me once they...   \n",
      "\n",
      "                                            scenario  persona_in_scenario  \\\n",
      "0  i have a pencil thin mustache . i have six tat...                 True   \n",
      "1  i like visiting art museums in my spare time ....                 True   \n",
      "2  i like to train dogs . i like to make cookies ...                 True   \n",
      "3  i like to eat tune . i've two cats . i like to...                 True   \n",
      "4  i like visiting art museums in my spare time ....                 True   \n",
      "\n",
      "   thought_in_scenario  \n",
      "0                 True  \n",
      "1                 True  \n",
      "2                 True  \n",
      "3                 True  \n",
      "4                 True  \n"
     ]
    }
   ],
   "source": [
    "# 출처 : \n",
    "# 원천 : \n",
    "\n",
    "meta = pd.read_csv(\"raw_data/meta_Data_with_More_Varied_and_Natural_Scenarios.csv\", encoding='latin1')\n",
    "print(meta.head())"
   ]
  },
  {
   "cell_type": "code",
   "execution_count": 13,
   "metadata": {},
   "outputs": [
    {
     "name": "stderr",
     "output_type": "stream",
     "text": [
      "Summarize dataset: 100%|██████████| 16/16 [00:00<00:00, 42.23it/s, Completed]                           \n",
      "Generate report structure: 100%|██████████| 1/1 [00:01<00:00,  1.52s/it]\n",
      "Render HTML: 100%|██████████| 1/1 [00:00<00:00,  8.14it/s]\n",
      "Export report to file: 100%|██████████| 1/1 [00:00<00:00, 499.50it/s]\n"
     ]
    }
   ],
   "source": [
    "# 프로파일링 리포트 생성\n",
    "profile = ProfileReport(meta, title=\"meta\", explorative=True)\n",
    "\n",
    "# 리포트를 HTML 파일로 저장\n",
    "profile.to_file(\"ydata_profiling/meta.html\")"
   ]
  },
  {
   "cell_type": "code",
   "execution_count": null,
   "metadata": {},
   "outputs": [],
   "source": []
  },
  {
   "cell_type": "code",
   "execution_count": null,
   "metadata": {},
   "outputs": [],
   "source": []
  },
  {
   "cell_type": "code",
   "execution_count": null,
   "metadata": {},
   "outputs": [],
   "source": []
  },
  {
   "cell_type": "code",
   "execution_count": null,
   "metadata": {},
   "outputs": [],
   "source": []
  }
 ],
 "metadata": {
  "kernelspec": {
   "display_name": ".venv",
   "language": "python",
   "name": "python3"
  },
  "language_info": {
   "codemirror_mode": {
    "name": "ipython",
    "version": 3
   },
   "file_extension": ".py",
   "mimetype": "text/x-python",
   "name": "python",
   "nbconvert_exporter": "python",
   "pygments_lexer": "ipython3",
   "version": "3.12.0"
  }
 },
 "nbformat": 4,
 "nbformat_minor": 2
}
